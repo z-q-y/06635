{
 "cells": [
  {
   "cell_type": "markdown",
   "metadata": {},
   "source": [
    "# Opening Notes\n",
    "\n",
    "### How to write LP files without solving\n",
    "\n",
    "Use `pyomo convert --format=lp TransitionPlanningUsingTSP_Original.py`\n",
    "\n",
    "### Problems\n",
    "- min/hr/week conversion"
   ]
  },
  {
   "cell_type": "code",
   "execution_count": 371,
   "metadata": {},
   "outputs": [],
   "source": [
    "# Import of the pyomo module\n",
    "import os, sys\n",
    "import pandas as pd\n",
    "import numpy as np\n",
    "from pyomo.environ import *\n",
    "# from pyomo.core import *\n",
    " \n",
    "# Creation of a Concrete Model\n",
    "model = ConcreteModel()"
   ]
  },
  {
   "cell_type": "code",
   "execution_count": 372,
   "metadata": {},
   "outputs": [],
   "source": [
    "number_of_weeks = 4"
   ]
  },
  {
   "cell_type": "code",
   "execution_count": 373,
   "metadata": {},
   "outputs": [],
   "source": [
    "# Sets\n",
    "\n",
    "## C    set of customers   / c1, c2, c3, c4, c5, c6, c7, c8, c9, c10 /\n",
    "## I    set of products    /  A,  B,  C,  D,  E,  F,  G,  H,  I,   J /\n",
    "## W    set of weeks       / w1, w2, w3, w4, w5, w6, w7, w8 /\n",
    "## Wa   set W without week 1\n",
    "\n",
    "# Alias  (I, J);\n",
    "C = ['c1', 'c2', 'c3', 'c4', 'c5', 'c6', 'c7', 'c8', 'c9', 'c10']\n",
    "I = ['A', 'B', 'C', 'D', 'E', 'F', 'G', 'H', 'I', 'J']\n",
    "\n",
    "model.C = Set(initialize=C)\n",
    "model.I = Set(initialize=I)\n",
    "model.J = Set(initialize=I)\n",
    "\n",
    "W = ['w%i' % w for w in range(1, number_of_weeks + 1)]\n",
    "model.W = Set(initialize=W)\n",
    "model.Wa = Set(initialize=W[1:])\n",
    "model.Wdict = {W[1:][k]: W[:-1][k] for k in range(number_of_weeks - 1)}"
   ]
  },
  {
   "cell_type": "code",
   "execution_count": 374,
   "metadata": {},
   "outputs": [],
   "source": [
    "# Scalars\n",
    "\n",
    "## M         'Big M'  / 9 /\n",
    "## ThetaL    'lower bound for processing time in a week [h]'  / 5.0 /\n",
    "## ThetaU    'upper bound for processing time in a week [h]' / 168.0 /\n",
    "\n",
    "model.M      = 9.0\n",
    "model.ThetaL = 5.0\n",
    "model.ThetaU = 168.0"
   ]
  },
  {
   "cell_type": "code",
   "execution_count": 375,
   "metadata": {},
   "outputs": [
    {
     "name": "stderr",
     "output_type": "stream",
     "text": [
      "C:\\Users\\zhang\\AppData\\Local\\Continuum\\anaconda3\\lib\\site-packages\\ipykernel_launcher.py:14: FutureWarning: convert_objects is deprecated.  To re-infer data dtypes for object columns, use DataFrame.infer_objects()\n",
      "For all other conversions use the data-type specific converters pd.to_datetime, pd.to_timedelta and pd.to_numeric.\n",
      "  \n",
      "C:\\Users\\zhang\\AppData\\Local\\Continuum\\anaconda3\\lib\\site-packages\\ipykernel_launcher.py:16: FutureWarning: convert_objects is deprecated.  To re-infer data dtypes for object columns, use DataFrame.infer_objects()\n",
      "For all other conversions use the data-type specific converters pd.to_datetime, pd.to_timedelta and pd.to_numeric.\n",
      "  app.launch_new_instance()\n"
     ]
    }
   ],
   "source": [
    "# Tables\n",
    "\n",
    "weekly_demand = pd.read_excel('Table_1_Weekly_Demands_by_the_Customers.xlsx').fillna(0)\n",
    "weekly_demand_row = weekly_demand.index\n",
    "weekly_demand_row = pd.MultiIndex.from_tuples([tuple(idx.split(\".\")) for idx in weekly_demand_row], names=['C','I'])\n",
    "weekly_demand_col = weekly_demand.columns\n",
    "weekly_demand = pd.DataFrame(data=weekly_demand.values,\n",
    "                             index=weekly_demand_row,\n",
    "                             columns=weekly_demand_col)\n",
    "\n",
    "changeover_times = pd.read_excel('Table_2_Changeover_Times.xlsx').fillna(0)\n",
    "changeover_times = changeover_times / 60.0 # Convert units from mins to hrs\n",
    "\n",
    "weekly_sales = pd.read_excel('Table_5a_Optimal_Weekly_Aggregate_Sales.xlsx').convert_objects(convert_numeric=True).fillna(0)\n",
    "\n",
    "weekly_backlogs = pd.read_excel('Table_5b_Optimal_Weekly_Aggregate_Backlogs.xlsx').convert_objects(convert_numeric=True).fillna(0)"
   ]
  },
  {
   "cell_type": "code",
   "execution_count": 376,
   "metadata": {},
   "outputs": [],
   "source": [
    "# Parameters\n",
    "\n",
    "## PS(i, c)  'unit selling price of product i [$/ton]'\n",
    "## Table 3 shows the product prices for all customers, except for customer C10, who is 50% higher\n",
    "PSdict1d = {'A': 10., 'B': 12., 'C': 13., 'D': 12., 'E': 15., 'F': 10., 'G': 8., 'H': 14., 'I': 7., 'J': 15.}\n",
    "def PSinit(model, i, c):\n",
    "    if c == 'c10':\n",
    "        return PSdict1d[i] * 1.5\n",
    "    else:\n",
    "        return PSdict1d[i]\n",
    "model.PS = Param(model.I, model.C, initialize=PSinit)\n",
    "\n",
    "## r(i)      'processing rate of product i [ton/week]'\n",
    "model.r = Param(model.I, initialize={i: 110.0 / 168.0 for i in model.I})\n",
    "\n",
    "## CB(i, c)  'unit backlog penalty cost of product i to customer c [$/ton]'\n",
    "## The ... backlog cost [is] ... 20% of product prices.\n",
    "def CBinit(model, i, c):\n",
    "    if c == 'c10':\n",
    "        return PSdict1d[i] * 0.3\n",
    "    else:\n",
    "        return PSdict1d[i] * 0.2\n",
    "model.CB = Param(model.I, model.C, initialize=CBinit)\n",
    "\n",
    "## CI(i)     'unit inventory cost of product i [$/ton]'\n",
    "## The ... inventory cost [is] ... 10% of product prices.\n",
    "def CIinit(model, i):\n",
    "    return PSdict1d[i] * 0.1\n",
    "model.CI = Param(model.I, initialize=CIinit)\n",
    "\n",
    "## tau(i, j) 'changeover time from product i to product j [hours]'\n",
    "taudict = changeover_times.stack().to_dict()\n",
    "model.tau = Param(model.I, model.J, initialize=taudict)\n",
    "\n",
    "## CC(i, j)  'changeover cost from product i to product j [$]'\n",
    "def CCinit(model, i, j):\n",
    "    return taudict[i, j] * 10.0\n",
    "model.CC = Param(model.I, model.J, initialize=CCinit)\n",
    "\n",
    "## D(c,i,w)  'demand of product i in week w from customer c [ton]'\n",
    "def Dinit(model, c, i, w):\n",
    "    return weekly_demand.loc[c, i].loc[w]\n",
    "model.D = Param(model.C, model.I, model.W, initialize=Dinit)\n",
    "\n",
    "#  Vmax(i)   'maximum storage space for product i [ton]'\n",
    "#  Not explicitly defined in Liu et al.'s paper\n",
    "#  If maximum storage exceeds maximum production, then result is \n",
    "#    infeasible\n",
    "model.Vmax = Param(model.I, initialize={i: 110.0 for i in model.I})\n",
    "\n",
    "#  Vmin(i)   'minimum storage requirement for product i [ton]'\n",
    "model.Vmin = Param(model.I, initialize={i: 0.0 for i in model.I})\n"
   ]
  },
  {
   "cell_type": "code",
   "execution_count": 377,
   "metadata": {},
   "outputs": [],
   "source": [
    "# Binary Variables\n",
    "\n",
    "## E(i, w)   '1 if product i is processed during week w'\n",
    "## F(i, w)   '1 if product i is the first one in week w'\n",
    "## L(i, w)   '1 if product i is the last one in week w'\n",
    "## Z(i,j,w)  '1 if product i immediately precedes product j during week w'\n",
    "## ZF(i,j,w) '1 if the changeover between weeks w - 1 and w is from product i to j'\n",
    "\n",
    "model.E = Var(model.I, model.W, domain=Boolean, initialize=0)\n",
    "model.F = Var(model.I, model.W, domain=Boolean, initialize=0)\n",
    "model.L = Var(model.I, model.W, domain=Boolean, initialize=0)\n",
    "model.Z = Var(model.I, model.J, model.W, domain=Boolean, initialize=0)\n",
    "model.ZF = Var(model.I, model.J, model.W, bounds=(0, 1), initialize=0)"
   ]
  },
  {
   "cell_type": "code",
   "execution_count": 378,
   "metadata": {},
   "outputs": [],
   "source": [
    "# Other Variables\n",
    "\n",
    "## O(i, w)   'order index of product i during week w'\n",
    "## P(i, w)   'amount of product i produced during week w'\n",
    "## S(c,i,w)  'sales volume of product i to customer c during week w'\n",
    "## T(i, w)   'processing time of product i during week w'\n",
    "## V(i, w)   'inventory volume of product i at the end of week w'\n",
    "## Delta(c,i,w)  'backlog of product i to customer c at the end of week w'\n",
    "\n",
    "model.O = Var(model.I, model.W, initialize=0, domain=Integers)\n",
    "model.P = Var(model.I, model.W, initialize=0.0, domain=NonNegativeReals)\n",
    "model.S = Var(model.C, model.I, model.W, initialize=0.0, domain=NonNegativeReals)\n",
    "model.T = Var(model.I, model.W, initialize=0.0, domain=NonNegativeReals)\n",
    "model.V = Var(model.I, model.W, initialize=0.0, domain=NonNegativeReals)\n",
    "model.Delta = Var(model.C, model.I, model.W, initialize=0.0, domain=NonNegativeReals)\n",
    "\n",
    "model.revenue   = Var(initialize=0.0, domain=NonNegativeReals)\n",
    "model.cgov      = Var(initialize=0.0, domain=NonNegativeReals)\n",
    "model.backlog   = Var(initialize=0.0, domain=NonNegativeReals)\n",
    "model.inventory = Var(initialize=0.0, domain=NonNegativeReals)"
   ]
  },
  {
   "cell_type": "code",
   "execution_count": 379,
   "metadata": {},
   "outputs": [],
   "source": [
    "# Objective Function and its components [Eq. 1]\n",
    "## Pi        'total profit'\n",
    "\n",
    "def Eq1(model):\n",
    "    model.profits = (model.revenue - \n",
    "                     model.cgov -\n",
    "                     model.backlog - \n",
    "                     model.inventory)\n",
    "    return model.profits\n",
    "\n",
    "def revenueEq(model):\n",
    "    return (model.revenue == sum(model.PS[i,c] * model.S[c,i,w]\n",
    "                                 for w in model.W \n",
    "                                 for i in model.I\n",
    "                                 for c in model.C))\n",
    "\n",
    "def cgovEq(model):\n",
    "    return (model.cgov == (sum(model.CC[i,j] * model.Z[i,j,w]\n",
    "                               for j in model.J\n",
    "                               for i in model.I if i != j\n",
    "                               for w in model.W) +\n",
    "                           sum(model.CC[i,j] * model.ZF[i,j,w]\n",
    "                               for j in model.J\n",
    "                               for i in model.I if i != j\n",
    "                               for w in model.Wa)))\n",
    "\n",
    "def backlogEq(model):\n",
    "    return (model.backlog == sum(model.CB[i,c] * model.Delta[c,i,w]\n",
    "                                 for i in model.I\n",
    "                                 for c in model.C\n",
    "                                 for w in model.W))\n",
    "\n",
    "def inventoryEq(model):\n",
    "    return (model.inventory == sum(model.CI[i] * model.V[i,w]\n",
    "                                   for i in model.I\n",
    "                                   for w in model.W))\n",
    "    \n",
    "model.Revenue   = Constraint(rule=revenueEq)\n",
    "model.Cgov      = Constraint(rule=cgovEq)\n",
    "model.Backlog   = Constraint(rule=backlogEq)\n",
    "model.Inventory = Constraint(rule=inventoryEq)\n",
    "\n",
    "model.Pi = Objective(rule=Eq1, sense=maximize)"
   ]
  },
  {
   "cell_type": "code",
   "execution_count": 380,
   "metadata": {},
   "outputs": [],
   "source": [
    "#Assignment Constraints [Eqs. 2 - 5]\n",
    "\n",
    "## Assignment1 [Eq. 2]\n",
    "def Assignment1(model, w):\n",
    "    return (sum(model.F[i,w] for i in model.I) == 1)\n",
    "model.Eq2 = Constraint(model.W, rule=Assignment1)\n",
    "\n",
    "## Assignment2 [Eq. 3]\n",
    "def Assignment2(model, w):\n",
    "    return (sum(model.L[i,w] for i in model.I) == 1)\n",
    "model.Eq3 = Constraint(model.W, rule=Assignment2)\n",
    "\n",
    "## Assignment3 [Eq. 4]\n",
    "def Assignment3(model, i, w):\n",
    "    return (model.F[i,w] <= model.E[i,w])\n",
    "model.Eq4 = Constraint(model.I, model.W, rule=Assignment3)\n",
    "\n",
    "## Assignment4 [Eq. 5]\n",
    "def Assignment4(model, i, w):\n",
    "    return (model.L[i,w] <= model.E[i,w])\n",
    "model.Eq5 = Constraint(model.I, model.W, rule=Assignment4)"
   ]
  },
  {
   "cell_type": "code",
   "execution_count": 381,
   "metadata": {},
   "outputs": [],
   "source": [
    "# Changeover Constraints [Eqs. 6 - 9]\n",
    "\n",
    "## Changeover1 [Eq. 6]\n",
    "def Changeover1(model, j, w):\n",
    "    return (sum(model.Z[i,j,w] for i in model.I if i != j) == model.E[j,w] - model.F[j,w])\n",
    "model.Eq6 = Constraint(model.J, model.W, rule=Changeover1)\n",
    "\n",
    "## Changeover2 [Eq. 7]\n",
    "def Changeover2(model, i, w):\n",
    "    return (sum(model.Z[i,j,w] for j in model.J if i != j) == model.E[i,w] - model.L[i,w])\n",
    "model.Eq7 = Constraint(model.I, model.W, rule=Changeover2)\n",
    "\n",
    "## Changeover3 [Eq. 8]\n",
    "def Changeover3(model, j, w):\n",
    "    return (sum(model.ZF[i,j,w] for i in model.I) == model.F[j,w])\n",
    "model.Eq8 = Constraint(model.J, model.Wa, rule=Changeover3)\n",
    "\n",
    "## Changeover4 [Eq. 9]\n",
    "def Changeover4(model, i, w):\n",
    "    return (sum(model.ZF[i,j,w] for j in model.J) == model.L[i,model.Wdict[w]])\n",
    "model.Eq9 = Constraint(model.I, model.Wa, rule=Changeover4)"
   ]
  },
  {
   "cell_type": "code",
   "execution_count": 382,
   "metadata": {},
   "outputs": [],
   "source": [
    "# Subtour Elimination Constraints [Eqs. 10 - 12]\n",
    "## SubtourElim1 [Eq. 10]\n",
    "def SubtourElim1(model, i, j, w):\n",
    "    if i != j:\n",
    "        return ((model.O[j,w] - model.O[i,w] - 1) >= -model.M * (1 - model.Z[i,j,w]))\n",
    "    else:\n",
    "        return (model.O[j,w] == model.O[i,w])\n",
    "model.Eq10 = Constraint(model.I, model.J, model.W, rule=SubtourElim1)\n",
    "\n",
    "## SubtourElim2 [Eq. 11]\n",
    "def SubtourElim2(model, i, w):\n",
    "    return (model.O[i,w] <= model.M * model.E[i,w])\n",
    "model.Eq11 = Constraint(model.I, model.W, rule=SubtourElim2)\n",
    "\n",
    "## SubtourElim3 [Eq. 12a]\n",
    "def SubtourElim3(model, i, w):\n",
    "    return (model.F[i,w] <= model.O[i,w])\n",
    "model.Eq12a = Constraint(model.I, model.W, rule=SubtourElim3)\n",
    "\n",
    "## SubtourElim4 [Eq. 12b]\n",
    "def SubtourElim4(model, i, w):\n",
    "    return (model.O[i,w] <= sum(model.E[j,w] for j in model.J))\n",
    "model.Eq12b = Constraint(model.I, model.W, rule=SubtourElim4)\n"
   ]
  },
  {
   "cell_type": "code",
   "execution_count": 383,
   "metadata": {},
   "outputs": [],
   "source": [
    "# Timing Constraints [Eqs. 13 - 15]\n",
    "\n",
    "## Timing1a [Eq. 13a]\n",
    "def Timing1a(model, i, w):\n",
    "    return (model.ThetaL * model.E[i,w] <= model.T[i,w])\n",
    "model.Eq13a = Constraint(model.I, model.W, rule=Timing1a)\n",
    "\n",
    "## Timing1b [Eq. 13b]\n",
    "def Timing1b(model, i, w):\n",
    "    return (model.T[i,w] <= model.ThetaU * model.E[i,w])\n",
    "model.Eq13b = Constraint(model.I, model.W, rule=Timing1b)\n",
    "\n",
    "## Timing2 [Eq. 14 - 15 Combined]\n",
    "## The constraint formulae given by Liu et al.'s paper is logically\n",
    "##   incorrect here. A constraint i != j constraint exists for model.Z, \n",
    "##   but not for model.ZF. So we break the summation into two parts.\n",
    "def Timing2(model, w):\n",
    "    proc_time = sum(model.T[i,w] for i in model.I)\n",
    "    if w == 'w1':\n",
    "        cgov_time = sum(model.Z[i,j,w] * model.tau[i,j]\n",
    "                        for i in model.I\n",
    "                        for j in model.J if i != j)\n",
    "    else:\n",
    "        cgov_time = (sum(model.Z[i,j,w] * model.tau[i,j]\n",
    "                         for i in model.I\n",
    "                         for j in model.J if i != j) + \n",
    "                     sum(model.ZF[i,j,w] * model.tau[i,j]\n",
    "                         for i in model.I\n",
    "                         for j in model.J))\n",
    "    # print('proc_time:', proc_time, 'week:', w)\n",
    "    # print('cgov_time:', cgov_time, 'weel:', w)\n",
    "    return (proc_time + cgov_time <= model.ThetaU)\n",
    "model.Eq14 = Constraint(model.W, rule=Timing2)\n"
   ]
  },
  {
   "cell_type": "code",
   "execution_count": 384,
   "metadata": {},
   "outputs": [],
   "source": [
    "# Production Constraints\n",
    "\n",
    "## ProdConstraint [Eq. 16]\n",
    "def ProdConstraint(model, i, w):\n",
    "    return (model.P[i,w] == model.r[i] * model.T[i,w])\n",
    "model.Eq16 = Constraint(model.I, model.W, rule=ProdConstraint)\n"
   ]
  },
  {
   "cell_type": "code",
   "execution_count": 385,
   "metadata": {},
   "outputs": [],
   "source": [
    "# Backlog Constraints\n",
    "\n",
    "## BacklogConstraint [Eq. 17]\n",
    "def BacklogConstraint(model, c, i, w):    \n",
    "    if w == 'w1':\n",
    "        return (model.Delta[c,i,w] == model.D[c,i,w] - model.S[c,i,w])\n",
    "    else:\n",
    "        return (model.Delta[c,i,w] == model.Delta[c,i,model.Wdict[w]] + model.D[c,i,w] - model.S[c,i,w])\n",
    "model.Eq17 = Constraint(model.C, model.I, model.W, rule=BacklogConstraint)"
   ]
  },
  {
   "cell_type": "code",
   "execution_count": 386,
   "metadata": {},
   "outputs": [],
   "source": [
    "# Inventory Constraints [Eqs. 18 - 19]\n",
    "\n",
    "## Inventory1 [Eq. 18]\n",
    "def Inventory1(model, i, w):\n",
    "    if w == 'w1':\n",
    "        return (model.V[i,w] == model.P[i,w] - sum(model.S[c,i,w] for c in model.C))\n",
    "    else:\n",
    "        return (model.V[i,w] == model.V[i,model.Wdict[w]] + model.P[i,w] - sum(model.S[c,i,w] for c in model.C))\n",
    "model.Eq18 = Constraint(model.I, model.W, rule=Inventory1)\n",
    "\n",
    "## Inventory2a [Eq. 19a]\n",
    "def Inventory2a(model, i, w):\n",
    "    return (model.Vmin[i] <= model.V[i,w])\n",
    "model.Eq19a = Constraint(model.I, model.W, rule=Inventory2a)\n",
    "\n",
    "## Inventory2b [Eq. 19b]\n",
    "def Inventory2b(model, i, w):\n",
    "    return (model.V[i,w] <= model.Vmax[i])\n",
    "model.Eq19b = Constraint(model.I, model.W, rule=Inventory2b)"
   ]
  },
  {
   "cell_type": "code",
   "execution_count": 387,
   "metadata": {},
   "outputs": [
    {
     "data": {
      "text/plain": [
       "'\\n# Temporary Constraints used for troubleshootings\\n\\ndef fixS(model, i, w):\\n    return (sum(model.S[c,i,w] for c in model.C) == weekly_sales.loc[i, w])\\nmodel.FixS = Constraint(model.I, model.W, rule=fixS)\\n\\ndef fixDelta(model, i, w):\\n    return (sum(model.Delta[c,i,w] for c in model.C) == weekly_backlogs.loc[i, w])\\nmodel.FixDelta = Constraint(model.I, model.W, rule=fixDelta)\\n'"
      ]
     },
     "execution_count": 387,
     "metadata": {},
     "output_type": "execute_result"
    }
   ],
   "source": [
    "\"\"\"\n",
    "# Temporary Constraints used for troubleshootings\n",
    "\n",
    "def fixS(model, i, w):\n",
    "    return (sum(model.S[c,i,w] for c in model.C) == weekly_sales.loc[i, w])\n",
    "model.FixS = Constraint(model.I, model.W, rule=fixS)\n",
    "\n",
    "def fixDelta(model, i, w):\n",
    "    return (sum(model.Delta[c,i,w] for c in model.C) == weekly_backlogs.loc[i, w])\n",
    "model.FixDelta = Constraint(model.I, model.W, rule=fixDelta)\n",
    "\"\"\""
   ]
  },
  {
   "cell_type": "code",
   "execution_count": 388,
   "metadata": {},
   "outputs": [
    {
     "data": {
      "text/plain": [
       "('model_original.lp', 2344761550776)"
      ]
     },
     "execution_count": 388,
     "metadata": {},
     "output_type": "execute_result"
    }
   ],
   "source": [
    "filename = os.path.join(os.path.dirname(\"__file__\"), 'model_original.lp')\n",
    "model.write(filename, io_options={'symbolic_solver_labels': True})"
   ]
  },
  {
   "cell_type": "code",
   "execution_count": 389,
   "metadata": {},
   "outputs": [
    {
     "name": "stdout",
     "output_type": "stream",
     "text": [
      "\n",
      "Welcome to IBM(R) ILOG(R) CPLEX(R) Interactive Optimizer 12.9.0.0\n",
      "  with Simplex, Mixed Integer & Barrier Optimizers\n",
      "5725-A06 5725-A29 5724-Y48 5724-Y49 5724-Y54 5724-Y55 5655-Y21\n",
      "Copyright IBM Corp. 1988, 2019.  All Rights Reserved.\n",
      "\n",
      "Type 'help' for a list of available commands.\n",
      "Type 'help' followed by a command name for more\n",
      "information on commands.\n",
      "\n",
      "CPLEX> Logfile 'cplex.log' closed.\n",
      "Logfile 'C:\\Users\\zhang\\AppData\\Local\\Temp\\tmpm8bi6d0d.cplex.log' open.\n",
      "CPLEX> New value for 1014: 1e-07\n",
      "CPLEX> Problem 'C:\\Users\\zhang\\AppData\\Local\\Temp\\tmpfut37s2k.pyomo.lp' read.\n",
      "Read time = 0.02 sec. (0.20 ticks)\n",
      "CPLEX> Problem name         : C:\\Users\\zhang\\AppData\\Local\\Temp\\tmpfut37s2k.pyomo.lp\n",
      "Objective sense      : Maximize\n",
      "Variables            :    1745  [Nneg: 925,  Box: 300,  Binary: 480,\n",
      "                                 General Integer: 40]\n",
      "Objective nonzeros   :       4\n",
      "Linear constraints   :    1397  [Less: 684,  Greater: 40,  Equal: 673]\n",
      "  Nonzeros           :    7535\n",
      "  RHS nonzeros       :     511\n",
      "\n",
      "Variables            : Min LB: 0.0000000        Max UB: 1.000000       \n",
      "Objective nonzeros   : Min   : 1.000000         Max   : 1.000000       \n",
      "Linear constraints   :\n",
      "  Nonzeros           : Min   : 0.4166667        Max   : 168.0000       \n",
      "  RHS nonzeros       : Min   : 1.000000         Max   : 168.0000       \n",
      "CPLEX> CPXPARAM_Simplex_Tolerances_Optimality           9.9999999999999995e-08\n",
      "Tried aggregator 2 times.\n",
      "MIP Presolve eliminated 426 rows and 447 columns.\n",
      "Aggregator did 133 substitutions.\n",
      "Reduced MIP has 838 rows, 1165 columns, and 4745 nonzeros.\n",
      "Reduced MIP has 477 binaries, 40 generals, 0 SOSs, and 0 indicators.\n",
      "Presolve time = 0.02 sec. (4.52 ticks)\n",
      "Found incumbent of value -4684.938095 after 0.03 sec. (8.85 ticks)\n",
      "Probing time = 0.02 sec. (2.46 ticks)\n",
      "Tried aggregator 1 time.\n",
      "MIP Presolve eliminated 37 rows and 112 columns.\n",
      "Reduced MIP has 801 rows, 1053 columns, and 4542 nonzeros.\n",
      "Reduced MIP has 477 binaries, 40 generals, 0 SOSs, and 0 indicators.\n",
      "Presolve time = 0.00 sec. (3.07 ticks)\n",
      "Probing time = 0.00 sec. (2.36 ticks)\n",
      "Clique table members: 265.\n",
      "MIP emphasis: balance optimality and feasibility.\n",
      "MIP search method: dynamic search.\n",
      "Parallel mode: deterministic, using up to 8 threads.\n",
      "Root relaxation solution time = 0.03 sec. (6.69 ticks)\n",
      "\n",
      "        Nodes                                         Cuts/\n",
      "   Node  Left     Objective  IInf  Best Integer    Best Bound    ItCnt     Gap\n",
      "\n",
      "*     0+    0                        -4684.9381    18124.5000           486.87%\n",
      "      0     0     5663.7980   141    -4684.9381     5663.7980      203  220.89%\n",
      "*     0+    0                         -220.6107     5663.7980              --- \n",
      "      0     0     5487.6749   107     -220.6107     Cuts: 168      356     --- \n",
      "*     0+    0                         3383.4696     5487.6749            62.19%\n",
      "      0     0     5458.9864   127     3383.4696     Cuts: 130      445   61.34%\n",
      "      0     0     5455.2892    95     3383.4696      Cuts: 58      481   61.23%\n",
      "      0     0     5454.5003   112     3383.4696      Cuts: 18      502   61.21%\n",
      "      0     0     5454.3707   121     3383.4696      Cuts: 18      520   61.21%\n",
      "      0     0     5454.1778   121     3383.4696       Cuts: 3      536   61.20%\n",
      "*     0+    0                         5198.8937     5454.1778             4.91%\n",
      "*     0+    0                         5280.0532     5454.1778             3.30%\n",
      "      0     2     5454.1778   121     5280.0532     5454.1778      536    3.30%\n",
      "Elapsed time = 0.92 sec. (184.65 ticks, tree = 0.02 MB, solutions = 5)\n",
      "*    27+    5                         5292.6944     5453.5462             3.04%\n",
      "*   109    84      integral     0     5410.6548     5453.5462     3806    0.79%\n",
      "*   185   107      integral     0     5417.9718     5453.5462     5918    0.66%\n",
      "*   207+  104                         5426.6226     5451.3193             0.46%\n",
      "*   223   109      integral     0     5432.5032     5451.3159     7609    0.35%\n",
      "*   264    69      integral     0     5434.4921     5448.9246     8091    0.27%\n",
      "*   286+   51                         5434.9698     5448.9246             0.26%\n",
      "*   345    36      integral     0     5438.8397     5448.9246     9982    0.19%\n",
      "\n",
      "Clique cuts applied:  6\n",
      "Implied bound cuts applied:  131\n",
      "Flow cuts applied:  35\n",
      "Mixed integer rounding cuts applied:  58\n",
      "Zero-half cuts applied:  8\n",
      "Lift and project cuts applied:  4\n",
      "Gomory fractional cuts applied:  17\n",
      "\n",
      "Root node processing (before b&c):\n",
      "  Real time             =    0.89 sec. (184.22 ticks)\n",
      "Parallel b&c, 8 threads:\n",
      "  Real time             =    0.56 sec. (132.75 ticks)\n",
      "  Sync time (average)   =    0.20 sec.\n",
      "  Wait time (average)   =    0.00 sec.\n",
      "                          ------------\n",
      "Total (root+branch&cut) =    1.45 sec. (316.97 ticks)\n",
      "\n",
      "Solution pool: 14 solutions saved.\n",
      "\n",
      "MIP - Integer optimal, tolerance (0.0001/1e-06):  Objective =  5.4388396825e+03\n",
      "Current MIP best bound =  5.4392194027e+03 (gap = 0.37972, 0.01%)\n",
      "Solution time =    1.45 sec.  Iterations = 13450  Nodes = 411 (4)\n",
      "Deterministic time = 316.97 ticks  (218.00 ticks/sec)\n",
      "\n",
      "CPLEX> Incumbent solution written to file 'C:\\Users\\zhang\\AppData\\Local\\Temp\\tmp7v1cnlvi.cplex.sol'.\n",
      "CPLEX> "
     ]
    },
    {
     "data": {
      "text/plain": [
       "{'Problem': [{'Name': 'tmpfut37s2k', 'Lower bound': 5438.839682539683, 'Upper bound': 5439.2194027, 'Number of objectives': 1, 'Number of constraints': 1397, 'Number of variables': 1745, 'Number of nonzeros': 7535, 'Sense': 'maximize'}], 'Solver': [{'Status': 'ok', 'User time': 1.45, 'Termination condition': 'optimal', 'Termination message': 'MIP - Integer optimal, tolerance (0.0001/1e-06)\\\\x3a Objective = 5.4388396825e+03', 'Statistics': {'Branch and bound': {'Number of bounded subproblems': 411, 'Number of created subproblems': 411}}, 'Error rc': 0, 'Time': 1.7432091236114502}], 'Solution': [OrderedDict([('number of solutions', 0), ('number of solutions displayed', 0)])]}"
      ]
     },
     "execution_count": 389,
     "metadata": {},
     "output_type": "execute_result"
    }
   ],
   "source": [
    "\"\"\"\n",
    "for c in model.component_objects(Constraint):\n",
    "    c.activate()\n",
    "\n",
    "model.FixS.deactivate()\n",
    "model.FixDelta.deactivate()\n",
    "\"\"\"\n",
    "\n",
    "opt = SolverFactory('cplex')\n",
    "# opt.options['1030'] = 0 # Turns off presolve\n",
    "opt.options['1014'] = '1e-7'\n",
    "opt.solve(model, tee=True, symbolic_solver_labels=True)"
   ]
  },
  {
   "cell_type": "code",
   "execution_count": 390,
   "metadata": {},
   "outputs": [],
   "source": [
    "from pyomo.util.infeasible import log_infeasible_constraints\n",
    "log_infeasible_constraints(model)"
   ]
  },
  {
   "cell_type": "markdown",
   "metadata": {},
   "source": [
    "# Visualizing the Results\n",
    "## Visualizing the Optimal Production Schedule"
   ]
  },
  {
   "cell_type": "code",
   "execution_count": 391,
   "metadata": {},
   "outputs": [],
   "source": [
    "import itertools\n",
    "import matplotlib.pyplot as plt"
   ]
  },
  {
   "cell_type": "code",
   "execution_count": 392,
   "metadata": {},
   "outputs": [],
   "source": [
    "O_out = pd.DataFrame.from_dict(model.O.extract_values(), orient='index', columns=['ColumnName'])\n",
    "O_out = pd.DataFrame(data=O_out.values.reshape(10, number_of_weeks).T,\n",
    "                     index=W, columns=I).astype('int64')"
   ]
  },
  {
   "cell_type": "code",
   "execution_count": 393,
   "metadata": {},
   "outputs": [],
   "source": [
    "T_out = pd.DataFrame.from_dict(model.T.extract_values(), orient='index', columns=[''])\n",
    "T_out = pd.DataFrame(data=T_out.values.reshape(10, number_of_weeks).T,\n",
    "                     index=W, columns=I)"
   ]
  },
  {
   "cell_type": "code",
   "execution_count": 394,
   "metadata": {},
   "outputs": [
    {
     "name": "stdout",
     "output_type": "stream",
     "text": [
      "Order of production, starting from Week 1 to Week 4\n",
      "['E', 'D', 'C', 'A']\n",
      "['A', 'H', 'J', 'F', 'B']\n",
      "['B', 'I', 'D', 'E', 'G', 'C']\n",
      "['C', 'J', 'F', 'B', 'H']\n"
     ]
    }
   ],
   "source": [
    "O_out[O_out == 0] = model.M\n",
    "O_out_zerocounts = (O_out == model.M).astype(int).sum(axis=1)\n",
    "T_out_zerocounts = (T_out == 0).astype(int).sum(axis=1)\n",
    "\n",
    "prodSchedule = []\n",
    "print('Order of production, starting from Week 1 to Week', number_of_weeks)\n",
    "\n",
    "for idx, w in enumerate(O_out.index):\n",
    "    lenempty = O_out.loc[w].isin([model.M]).sum\n",
    "    prodOrder = [x for _, x in sorted(zip(list(O_out.loc[w]), I))][:len(I)-O_out_zerocounts[idx]]\n",
    "    print(prodOrder)\n",
    "    orderedProdTime = [x for _, x in sorted(zip(list(O_out.loc[w]), T_out.loc[w]))][:len(I)-T_out_zerocounts[idx]]\n",
    "\n",
    "    cgovIdxs = list(zip(prodOrder[:-1], prodOrder[1:]))\n",
    "    orderedGapTime = [model.tau[pair] for pair in cgovIdxs]\n",
    "    \n",
    "    orderedTime = [x for x in itertools.chain(*itertools.zip_longest(orderedProdTime, orderedGapTime)) if x is not None]\n",
    "    prodSchedule.append(orderedTime)\n",
    "    \n",
    "productionSchedule = np.zeros([len(prodSchedule),len(max(prodSchedule,key = lambda x: len(x)))])\n",
    "for idx, row in enumerate(prodSchedule):\n",
    "    productionSchedule[idx][0:len(row)] = row\n"
   ]
  },
  {
   "cell_type": "code",
   "execution_count": 395,
   "metadata": {},
   "outputs": [
    {
     "data": {
      "image/png": "[encoded data removed]",
      "text/plain": [
       "<Figure size 1008x432 with 1 Axes>"
      ]
     },
     "metadata": {},
     "output_type": "display_data"
    }
   ],
   "source": [
    "plt.rcParams.update({'font.size': 22})\n",
    "\n",
    "plt.figure(figsize=(14, 6))\n",
    "# barsheight = np.sum(productionSchedule, axis=1)\n",
    "barsheight = productionSchedule[:, 0] * 0\n",
    "\n",
    "for line in range(0, 168 + 24, 24):\n",
    "    plt.axvline(x=line, linewidth=0.6)\n",
    "    \n",
    "for idx, ba in enumerate(productionSchedule.T):\n",
    "    if idx % 2:\n",
    "        barcolor = 'black'\n",
    "        edgecolor = 'black'\n",
    "    else:\n",
    "        barcolor = 'yellow'\n",
    "        edgecolor = 'black'\n",
    "    plt.barh([str(x) for x in list(range(1, number_of_weeks + 1))],\n",
    "             ba, left=barsheight,color=barcolor,edgecolor=edgecolor)\n",
    "    barsheight = np.add(barsheight, ba)\n",
    "\n",
    "plt.xticks(list(range(0, 168 + 24, 24)))\n",
    "plt.xlabel('Hours')\n",
    "plt.ylabel('Weeks')\n",
    "plt.xlim((0, 168))\n",
    "plt.savefig('images/SchedulingUsingTSP_Original_%iweeks.png' % number_of_weeks)\n",
    "plt.show()\n"
   ]
  },
  {
   "cell_type": "markdown",
   "metadata": {},
   "source": [
    "Labels on each block as shown on the paper are drawn in Microsoft Paint."
   ]
  },
  {
   "cell_type": "markdown",
   "metadata": {},
   "source": [
    "## Final Notes\n",
    "\n",
    "We mentioned in the report that we achieved different inventory usage levels from Liu et al.'s results."
   ]
  },
  {
   "cell_type": "code",
   "execution_count": 396,
   "metadata": {},
   "outputs": [
    {
     "name": "stdout",
     "output_type": "stream",
     "text": [
      "revenue : Size=1, Index=None\n",
      "    Key  : Lower : Value             : Upper : Fixed : Stale : Domain\n",
      "    None :     0 : 6050.198412698413 :  None : False : False : NonNegativeReals\n"
     ]
    }
   ],
   "source": [
    "# Sales Revenue [$]\n",
    "model.revenue.pprint()"
   ]
  },
  {
   "cell_type": "code",
   "execution_count": 397,
   "metadata": {},
   "outputs": [
    {
     "name": "stdout",
     "output_type": "stream",
     "text": [
      "cgov : Size=1, Index=None\n",
      "    Key  : Lower : Value              : Upper : Fixed : Stale : Domain\n",
      "    None :     0 : 114.16666666666667 :  None : False : False : NonNegativeReals\n"
     ]
    }
   ],
   "source": [
    "# Changeover Cost [$]\n",
    "model.cgov.pprint()"
   ]
  },
  {
   "cell_type": "code",
   "execution_count": 398,
   "metadata": {},
   "outputs": [
    {
     "name": "stdout",
     "output_type": "stream",
     "text": [
      "backlog : Size=1, Index=None\n",
      "    Key  : Lower : Value              : Upper : Fixed : Stale : Domain\n",
      "    None :     0 : 493.69206349206337 :  None : False : False : NonNegativeReals\n"
     ]
    }
   ],
   "source": [
    "# Backlog Cost [$]\n",
    "model.backlog.pprint()"
   ]
  },
  {
   "cell_type": "code",
   "execution_count": 399,
   "metadata": {},
   "outputs": [
    {
     "name": "stdout",
     "output_type": "stream",
     "text": [
      "inventory : Size=1, Index=None\n",
      "    Key  : Lower : Value             : Upper : Fixed : Stale : Domain\n",
      "    None :     0 : 3.499999999999999 :  None : False : False : NonNegativeReals\n"
     ]
    }
   ],
   "source": [
    "# Inventory Cost [$]\n",
    "model.inventory.pprint()"
   ]
  },
  {
   "cell_type": "code",
   "execution_count": 400,
   "metadata": {},
   "outputs": [
    {
     "name": "stdout",
     "output_type": "stream",
     "text": [
      "Pi : Size=1, Index=None, Active=True\n",
      "    Key  : Active : Sense    : Expression\n",
      "    None :   True : maximize : revenue - cgov - backlog - inventory\n"
     ]
    }
   ],
   "source": [
    "# Total profit [$]\n",
    "model.Pi.pprint()"
   ]
  },
  {
   "cell_type": "code",
   "execution_count": null,
   "metadata": {},
   "outputs": [],
   "source": []
  }
 ],
 "metadata": {
  "kernelspec": {
   "display_name": "Python 3",
   "language": "python",
   "name": "python3"
  },
  "language_info": {
   "codemirror_mode": {
    "name": "ipython",
    "version": 3
   },
   "file_extension": ".py",
   "mimetype": "text/x-python",
   "name": "python",
   "nbconvert_exporter": "python",
   "pygments_lexer": "ipython3",
   "version": "3.6.5"
  }
 },
 "nbformat": 4,
 "nbformat_minor": 2
}
